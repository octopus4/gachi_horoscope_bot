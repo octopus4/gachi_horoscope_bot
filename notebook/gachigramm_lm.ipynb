{
  "nbformat": 4,
  "nbformat_minor": 0,
  "metadata": {
    "accelerator": "GPU",
    "colab": {
      "name": "gachigramm_lm.ipynb",
      "provenance": [],
      "collapsed_sections": [],
      "toc_visible": true
    },
    "kernelspec": {
      "display_name": "Python 3",
      "language": "python",
      "name": "python3"
    },
    "language_info": {
      "codemirror_mode": {
        "name": "ipython",
        "version": 3
      },
      "file_extension": ".py",
      "mimetype": "text/x-python",
      "name": "python",
      "nbconvert_exporter": "python",
      "pygments_lexer": "ipython3",
      "version": "3.7.4"
    }
  },
  "cells": [
    {
      "cell_type": "markdown",
      "metadata": {
        "id": "7-2iLL1Oko6y"
      },
      "source": [
        "# Data preprocessing"
      ]
    },
    {
      "cell_type": "code",
      "metadata": {
        "id": "0Qj-KdFT6pNf"
      },
      "source": [
        "import re\n",
        "import numpy as np\n",
        "import matplotlib.pyplot as plt\n",
        "import torch\n",
        "import torch.nn as nn\n",
        "import torch.nn.functional as F\n",
        "\n",
        "from tqdm import tqdm\n",
        "from torch.autograd import Variable\n",
        "from torch.utils.data import Dataset, DataLoader\n",
        "from google_drive_downloader import GoogleDriveDownloader as gdd\n",
        "\n",
        "%matplotlib inline"
      ],
      "execution_count": null,
      "outputs": []
    },
    {
      "cell_type": "markdown",
      "metadata": {
        "id": "n_XpbNHqfvFS"
      },
      "source": [
        "I used astrology \"predictions\" from the corresponding [vk community](https://vk.com/gachiastro) as a dataset."
      ]
    },
    {
      "cell_type": "code",
      "metadata": {
        "id": "fj4iBvFzOBkV",
        "colab": {
          "base_uri": "https://localhost:8080/"
        },
        "outputId": "b698c2f9-aacc-4a3b-c1b6-e1e9d11fde2c"
      },
      "source": [
        "gachi_dataset = '1AGa8iBzyBDSRaLvk88YyJ1qeIIVQaO0k'\n",
        "gdd.download_file_from_google_drive(file_id=gachi_dataset, dest_path='./gachi_astro.txt')"
      ],
      "execution_count": null,
      "outputs": [
        {
          "output_type": "stream",
          "text": [
            "Downloading 1AGa8iBzyBDSRaLvk88YyJ1qeIIVQaO0k into ./gachi_astro.txt... Done.\n"
          ],
          "name": "stdout"
        }
      ]
    },
    {
      "cell_type": "code",
      "metadata": {
        "id": "lPRgoBqHOPQz"
      },
      "source": [
        "with open('gachi_astro.txt', encoding=\"utf8\") as file_data:\n",
        "    gachi_data = file_data.readlines()"
      ],
      "execution_count": null,
      "outputs": []
    },
    {
      "cell_type": "code",
      "metadata": {
        "id": "N4cM-EOoPNVr",
        "colab": {
          "base_uri": "https://localhost:8080/",
          "height": 265
        },
        "outputId": "9f495051-09b4-49fe-d119-56c44121ff9e"
      },
      "source": [
        "plt.hist([len(t.split()) for t in gachi_data], bins=128, range=(0, 150))\n",
        "plt.show()"
      ],
      "execution_count": null,
      "outputs": [
        {
          "output_type": "display_data",
          "data": {
            "image/png": "[encoded data removed]",
            "text/plain": [
              "<Figure size 432x288 with 1 Axes>"
            ]
          },
          "metadata": {
            "tags": [],
            "needs_background": "light"
          }
        }
      ]
    },
    {
      "cell_type": "code",
      "metadata": {
        "id": "FkAdSSgQPuwP",
        "colab": {
          "base_uri": "https://localhost:8080/"
        },
        "outputId": "a6561676-5a1c-4132-ab55-39cbd5359df0"
      },
      "source": [
        "print(min(map(lambda x: len(x), filter(lambda x: 30 < len(x.split()) < 63, gachi_data))))\n",
        "print(max(map(lambda x: len(x), filter(lambda x: 30 < len(x.split()) < 63, gachi_data))))"
      ],
      "execution_count": null,
      "outputs": [
        {
          "output_type": "stream",
          "text": [
            "182\n",
            "506\n"
          ],
          "name": "stdout"
        }
      ]
    },
    {
      "cell_type": "code",
      "metadata": {
        "id": "fDkPB32hP0L7",
        "colab": {
          "base_uri": "https://localhost:8080/"
        },
        "outputId": "bfa2855a-b25c-4747-8fc6-959571167fa0"
      },
      "source": [
        "corpus = gachi_data\n",
        "print(len(corpus))"
      ],
      "execution_count": null,
      "outputs": [
        {
          "output_type": "stream",
          "text": [
            "8584\n"
          ],
          "name": "stdout"
        }
      ]
    },
    {
      "cell_type": "markdown",
      "metadata": {
        "id": "lDnjXaIKkvx-"
      },
      "source": [
        "## Tokenization"
      ]
    },
    {
      "cell_type": "markdown",
      "metadata": {
        "id": "8pLu8MgehhBt"
      },
      "source": [
        "Tokenizer lefts only correct characters in processing sentences and trims multiple spaces to a single one."
      ]
    },
    {
      "cell_type": "code",
      "metadata": {
        "id": "gzosTntM6qfI"
      },
      "source": [
        "class Tokenizer:\n",
        "    def __init__(self):\n",
        "        self.regex = r\"([^a-zA-Zа-яА-Я0-9\\.\\,\\!\\?\\;\\:\\&\\-\\\"\\'\\` ])\"\n",
        "\n",
        "    def tokenize(self, sentence: str):\n",
        "        cleaned = re.sub(self.regex, \"\", sentence)\n",
        "        trimmed_spaces = re.sub(r\"[ ]+\", \" \", cleaned)\n",
        "        last_dot_index = trimmed_spaces.find('.')\n",
        "        if last_dot_index > 0:\n",
        "            return trimmed_spaces[:last_dot_index + 1]\n",
        "        return trimmed_spaces"
      ],
      "execution_count": null,
      "outputs": []
    },
    {
      "cell_type": "markdown",
      "metadata": {
        "id": "mz2VMjagkyXG"
      },
      "source": [
        "## Build vocab"
      ]
    },
    {
      "cell_type": "markdown",
      "metadata": {
        "id": "QPaLjigKifi3"
      },
      "source": [
        "Vocab contains digits, russian and english alphabets in lower and upper cases and some special characters. Also it can parse incoming sentences and retrieve ngramms using settings passed in the constructor.\n",
        "\n",
        "I know that the tokenization could be made using Aho-Corasik automaton, but I wanted to finish the notebook ASAP."
      ]
    },
    {
      "cell_type": "code",
      "metadata": {
        "id": "B1EnAfE96ruE"
      },
      "source": [
        "class Vocab:\n",
        "    START_TOKEN = '<sos>'\n",
        "    END_TOKEN = '<eos>'\n",
        "    PADDING_TOKEN = '<pad>'\n",
        "    def __init__(self, text_data, ngramm_params):\n",
        "        # init tokenizer and char2idx/idx2char maps\n",
        "        self.tokenizer = Tokenizer()\n",
        "        self.char2idx = {\n",
        "            Vocab.START_TOKEN: 0,\n",
        "            Vocab.END_TOKEN: 1,\n",
        "            Vocab.PADDING_TOKEN: 2\n",
        "        }\n",
        "        self.idx2char = {\n",
        "            0: Vocab.START_TOKEN,\n",
        "            1: Vocab.END_TOKEN,\n",
        "            2: Vocab.PADDING_TOKEN\n",
        "        }\n",
        "        # build vocab sources\n",
        "        digits = '0123456789'\n",
        "        eng_alphabet = 'abcdefghijklmnopqrstuvwxyzABCDEFGHIJKLMNOPQRSTUVWXYZ'\n",
        "        rus_alphabet = 'абвгдеёжзийклмнопрстуфхцчшщъыьэюяАБВГДЕЁЖЗИЙКЛМНОПРСТУФХЦЧШЩЪЫЬЭЮЯ'\n",
        "        extra_chars = '.,!?;:&-\"\\'` '\n",
        "        alphabet = digits + eng_alphabet + rus_alphabet + extra_chars\n",
        "        self.__add_to_dict__(alphabet)\n",
        "        self.__add_ngramms__(text_data, ngramm_params)\n",
        "        \n",
        "    def __add_ngramms__(self, text_data, ngramm_params):\n",
        "        self.ngramms = {}\n",
        "        self.__max_ngramm = 0\n",
        "        for (n, topk) in ngramm_params:\n",
        "            if n < 2:\n",
        "                print('Warn: ngramms with n < 2 are not considered')\n",
        "                continue\n",
        "            self.__max_ngramm = max(self.__max_ngramm, n)\n",
        "            self.ngramms[n] = self.__get_ngramms__(text_data, n, topk)\n",
        "            self.__add_to_dict__(self.ngramms[n])\n",
        "\n",
        "    def __add_to_dict__(self, sequence):\n",
        "        padding = len(self.char2idx)\n",
        "        for i, item in enumerate(sequence):\n",
        "            self.char2idx[item] = i + padding\n",
        "            self.idx2char[i + padding] = item\n",
        "        assert len(self.char2idx) == len(self.idx2char)\n",
        "\n",
        "    def __get_ngramms__(self, data, n, topk):\n",
        "        cnt = {}\n",
        "        for item in data:\n",
        "            l = len(item)\n",
        "            for i in range(l - n + 1):\n",
        "                ngramm = item[i:i + n]\n",
        "                # how to validate properly?\n",
        "                if ' ' in ngramm or '.' in ngramm or ',' in ngramm:\n",
        "                    continue\n",
        "                if ngramm not in cnt.keys():\n",
        "                    cnt[ngramm] = 0\n",
        "                cnt[ngramm] += 1\n",
        "        joint_ngramms = map(lambda x: (x, cnt[x]), cnt)\n",
        "        sorted_ngramms = list(map(lambda x: x[0], sorted(joint_ngramms, key=lambda x: -x[1])))\n",
        "        return set(sorted_ngramms[:topk])\n",
        "\n",
        "    def tokenize(self, sequence):\n",
        "        sequence = self.tokenizer.tokenize(sequence)\n",
        "        tokens = []\n",
        "        i, n = 0, len(sequence)\n",
        "        while i < n:\n",
        "            ngramm_added = False\n",
        "            for k in range(self.__max_ngramm, 1, -1):\n",
        "                if not k in self.ngramms.keys():\n",
        "                    continue\n",
        "                if i < n - k + 1 and sequence[i:i + k] in self.ngramms[k]:\n",
        "                    tokens.append(self.char2idx[sequence[i:i + k]])\n",
        "                    ngramm_added = True\n",
        "                    i += k\n",
        "                    break\n",
        "            if not ngramm_added:\n",
        "                tokens.append(self.char2idx[sequence[i]])\n",
        "                i += 1\n",
        "        return tokens\n",
        "\n",
        "    def detokenize(self, sequence):\n",
        "        return ''.join([self.idx2char[idx] for idx in sequence.numpy()])\n",
        "    \n",
        "    def __len__(self):\n",
        "        return len(self.char2idx)"
      ],
      "execution_count": null,
      "outputs": []
    },
    {
      "cell_type": "markdown",
      "metadata": {
        "id": "MuqwBDM9k2pO"
      },
      "source": [
        "## Define text dataset"
      ]
    },
    {
      "cell_type": "code",
      "metadata": {
        "id": "BId_g0g76uRC"
      },
      "source": [
        "class TextDataset():\n",
        "    def __init__(self, records, min_words=16, max_words=32, max_chars=256, ngramm_params=[]):\n",
        "        if ngramm_params is None:\n",
        "            ngramm_params = []\n",
        "        filtered_records = filter(lambda r: min_words <= len(r.split()) <= max_words, records)\n",
        "        truncated_records = map(lambda s: s[:self.__last_dot_position__(s, max_chars)], filtered_records)\n",
        "        data = list(truncated_records)\n",
        "        self.vocab = Vocab(data, ngramm_params)\n",
        "        self.min_len = min_words\n",
        "        self.max_len = max_chars\n",
        "        self.data = data\n",
        "\n",
        "    def __last_dot_position__(self, s, max_len):\n",
        "        truncated_positions = [i for (i, c) in enumerate(s) if c == '.' and i < max_len - 2]\n",
        "        return min(len(s), max_len - 2) if len(truncated_positions) == 0 else truncated_positions[-1] + 1\n",
        "\n",
        "    def __len__(self):\n",
        "        return len(self.data)\n",
        "\n",
        "    def __getitem__(self, idx):\n",
        "        max_len = self.max_len\n",
        "        start_token = self.vocab.char2idx[Vocab.START_TOKEN]\n",
        "        padding_token = self.vocab.char2idx[Vocab.PADDING_TOKEN]\n",
        "        end_token = self.vocab.char2idx[Vocab.END_TOKEN]\n",
        "        # add paddings\n",
        "        sample = self.vocab.tokenize(self.data[idx])\n",
        "        sample_len = len(sample)\n",
        "        token_sample = [start_token] + sample + [end_token] + [padding_token] * (max_len - sample_len - 2)\n",
        "        try:\n",
        "            assert len(token_sample) == max_len\n",
        "        except:\n",
        "            print(idx, len(token_sample), token_sample)\n",
        "            raise RuntimeError\n",
        "        # convert to tensors\n",
        "        sample = torch.LongTensor(token_sample)\n",
        "        target = torch.LongTensor(token_sample[1:] + [padding_token])\n",
        "        return sample, target"
      ],
      "execution_count": null,
      "outputs": []
    },
    {
      "cell_type": "code",
      "metadata": {
        "id": "5WW04Hq-_DGx"
      },
      "source": [
        "dataset = TextDataset(corpus, 32, 128, 512, [(2, 10), (3, 10)])"
      ],
      "execution_count": null,
      "outputs": []
    },
    {
      "cell_type": "code",
      "metadata": {
        "id": "5FPFJnruaIb3"
      },
      "source": [
        "train_size = int(0.9 * len(dataset))\n",
        "test_size = len(dataset) - train_size\n",
        "train_set, test_set = torch.utils.data.random_split(dataset, [train_size, test_size])"
      ],
      "execution_count": null,
      "outputs": []
    },
    {
      "cell_type": "code",
      "metadata": {
        "id": "tEP8r7eImSBf"
      },
      "source": [
        "device = torch.device('cuda') if torch.cuda.is_available() else torch.device('cpu')\n",
        "# device = torch.device('cpu') # for debugging purposes"
      ],
      "execution_count": null,
      "outputs": []
    },
    {
      "cell_type": "markdown",
      "metadata": {
        "id": "YfUUC6nyk8Dg"
      },
      "source": [
        "# Model"
      ]
    },
    {
      "cell_type": "markdown",
      "metadata": {
        "id": "i8HG-Fl8jqZ-"
      },
      "source": [
        "This class defines the language model. It uses standard PyTorch embedding layer, gated recurrent unit and does not use weights tying.\n",
        "\n",
        "`init_hidden` method should be marked with `@torch.jit.export` annotation for model to be properly serialized using torchscript."
      ]
    },
    {
      "cell_type": "markdown",
      "metadata": {
        "id": "tjFuPcWhlBWd"
      },
      "source": [
        "## Define LM"
      ]
    },
    {
      "cell_type": "code",
      "metadata": {
        "id": "UIJo8Gnx7bdK"
      },
      "source": [
        "class LM(nn.Module):\n",
        "    def __init__(self, batch_size, vocab_size, hidden_dim, num_layers, dropout):\n",
        "        super().__init__()\n",
        "        self.batch_size = batch_size\n",
        "        self.vocab_size = vocab_size\n",
        "        self.hidden_dim = hidden_dim\n",
        "        self.num_layers = num_layers\n",
        "        \n",
        "        self.encoder = nn.Embedding(vocab_size, hidden_dim)\n",
        "        self.rnn = nn.GRU(hidden_dim, hidden_dim, num_layers, dropout=dropout, batch_first=True)\n",
        "        self.decoder = nn.Sequential(\n",
        "            nn.GELU(),\n",
        "            nn.BatchNorm1d(hidden_dim),\n",
        "            nn.Linear(hidden_dim, hidden_dim // 2),\n",
        "            nn.GELU(),\n",
        "            nn.BatchNorm1d(hidden_dim // 2),\n",
        "            nn.Linear(hidden_dim // 2, vocab_size)\n",
        "        )\n",
        "        self.softmax = nn.LogSoftmax(1)\n",
        "\n",
        "    def forward(self, input, hidden, temperature: float = 1.0):\n",
        "        emb = F.gelu(self.encoder(input))\n",
        "        output, hidden = self.rnn(emb, hidden)\n",
        "        reshaped_output = output.reshape(output.size(0) * output.size(1), output.size(2))\n",
        "        decoded = self.decoder(reshaped_output)\n",
        "        scaled_decoded = decoded / temperature\n",
        "        result = self.softmax(scaled_decoded).view(output.size(0), output.size(1), decoded.size(1))\n",
        "\n",
        "        return result, hidden\n",
        "\n",
        "    def init_hidden(self, batch_size):\n",
        "        return torch.ones(self.num_layers, batch_size, self.hidden_dim)"
      ],
      "execution_count": null,
      "outputs": []
    },
    {
      "cell_type": "code",
      "metadata": {
        "id": "kLKk86sP7la-"
      },
      "source": [
        "epochs = 8\n",
        "lr = 1e-3\n",
        "batch_size = 64"
      ],
      "execution_count": null,
      "outputs": []
    },
    {
      "cell_type": "code",
      "metadata": {
        "id": "9knXtjtrNZ0Q"
      },
      "source": [
        "model = LM(\n",
        "    batch_size = batch_size,\n",
        "    vocab_size = len(dataset.vocab),\n",
        "    hidden_dim = 256,\n",
        "    num_layers = 4,\n",
        "    dropout = 0.01\n",
        ").to(device)"
      ],
      "execution_count": null,
      "outputs": []
    },
    {
      "cell_type": "code",
      "metadata": {
        "id": "iMvOfDdLNa9m"
      },
      "source": [
        "optimizer = torch.optim.Adam(model.parameters(), lr=lr)\n",
        "criterion = nn.NLLLoss(ignore_index=2) # ignore padding token"
      ],
      "execution_count": null,
      "outputs": []
    },
    {
      "cell_type": "code",
      "metadata": {
        "id": "B3xy8nnTmX-A"
      },
      "source": [
        "train = DataLoader(train_set, batch_size=batch_size, shuffle=True)\n",
        "test = DataLoader(test_set, batch_size=batch_size)"
      ],
      "execution_count": null,
      "outputs": []
    },
    {
      "cell_type": "code",
      "metadata": {
        "id": "3_NwZlcXUhqX"
      },
      "source": [
        "train_history = []\n",
        "test_history = []"
      ],
      "execution_count": null,
      "outputs": []
    },
    {
      "cell_type": "markdown",
      "metadata": {
        "id": "TfaoQPS8lDbZ"
      },
      "source": [
        "## Train LM"
      ]
    },
    {
      "cell_type": "code",
      "metadata": {
        "colab": {
          "base_uri": "https://localhost:8080/",
          "height": 914
        },
        "id": "PGj8d5hj7266",
        "outputId": "d328c542-e693-4f41-834e-7b6015a5fbe5"
      },
      "source": [
        "try:\n",
        "    for e in range(epochs):\n",
        "        avg_train_loss = 0\n",
        "        avg_test_loss = 0\n",
        "        model.train()\n",
        "        for x, y in tqdm(train, position=0, leave=True):\n",
        "            model.zero_grad()\n",
        "            hidden = model.init_hidden(len(x)).to(device)\n",
        "            x, y = x.to(device), y.to(device)\n",
        "            output, _ = model(x, hidden)\n",
        "            loss = criterion(output.permute(0, 2, 1), y)\n",
        "            loss.backward()\n",
        "            torch.nn.utils.clip_grad_norm_(model.parameters(), 0.8)\n",
        "            train_history.append(loss.item())\n",
        "            avg_train_loss += loss.item() / len(train)\n",
        "\n",
        "            optimizer.step()\n",
        "            del x\n",
        "            del y\n",
        "            del hidden\n",
        "            torch.cuda.empty_cache()\n",
        "        model.eval()\n",
        "        with torch.no_grad():\n",
        "            for x, y in tqdm(test, position=0, leave=True):\n",
        "                hidden = model.init_hidden(len(x)).to(device)\n",
        "                x, y = x.to(device), y.to(device)\n",
        "                output, _ = model(x, hidden)\n",
        "                loss = criterion(output.permute(0, 2, 1), y)\n",
        "                test_history.append(loss.item())\n",
        "                avg_test_loss += loss.item() / len(test)\n",
        "                del x\n",
        "                del y\n",
        "                del hidden\n",
        "                torch.cuda.empty_cache()\n",
        "        print(f'epoch: {e}, train loss: {avg_train_loss}, test loss: {avg_test_loss}')\n",
        "except KeyboardInterrupt:\n",
        "    print('Manual stop')\n",
        "\n",
        "plt.plot(train_history)\n",
        "plt.show()\n",
        "plt.plot(test_history)\n",
        "plt.show()"
      ],
      "execution_count": null,
      "outputs": [
        {
          "output_type": "stream",
          "text": [
            "100%|██████████| 117/117 [00:32<00:00,  3.64it/s]\n",
            "100%|██████████| 13/13 [00:00<00:00, 16.89it/s]\n",
            "  0%|          | 0/117 [00:00<?, ?it/s]"
          ],
          "name": "stderr"
        },
        {
          "output_type": "stream",
          "text": [
            "epoch: 0, train loss: 2.720098877564454, test loss: 1.7761746828372664\n"
          ],
          "name": "stdout"
        },
        {
          "output_type": "stream",
          "text": [
            "100%|██████████| 117/117 [00:32<00:00,  3.63it/s]\n",
            "100%|██████████| 13/13 [00:00<00:00, 16.52it/s]\n",
            "  0%|          | 0/117 [00:00<?, ?it/s]"
          ],
          "name": "stderr"
        },
        {
          "output_type": "stream",
          "text": [
            "epoch: 1, train loss: 1.455439898702833, test loss: 1.3171901244383595\n"
          ],
          "name": "stdout"
        },
        {
          "output_type": "stream",
          "text": [
            "100%|██████████| 117/117 [00:32<00:00,  3.62it/s]\n",
            "100%|██████████| 13/13 [00:00<00:00, 16.64it/s]\n",
            "  0%|          | 0/117 [00:00<?, ?it/s]"
          ],
          "name": "stderr"
        },
        {
          "output_type": "stream",
          "text": [
            "epoch: 2, train loss: 1.1891906816735227, test loss: 1.1660131216049194\n"
          ],
          "name": "stdout"
        },
        {
          "output_type": "stream",
          "text": [
            "100%|██████████| 117/117 [00:32<00:00,  3.61it/s]\n",
            "100%|██████████| 13/13 [00:00<00:00, 16.33it/s]\n",
            "  0%|          | 0/117 [00:00<?, ?it/s]"
          ],
          "name": "stderr"
        },
        {
          "output_type": "stream",
          "text": [
            "epoch: 3, train loss: 1.0659115069951766, test loss: 1.0657077110730686\n"
          ],
          "name": "stdout"
        },
        {
          "output_type": "stream",
          "text": [
            "100%|██████████| 117/117 [00:32<00:00,  3.60it/s]\n",
            "100%|██████████| 13/13 [00:00<00:00, 16.46it/s]\n",
            "  0%|          | 0/117 [00:00<?, ?it/s]"
          ],
          "name": "stderr"
        },
        {
          "output_type": "stream",
          "text": [
            "epoch: 4, train loss: 0.9796422185041966, test loss: 1.0091185844861543\n"
          ],
          "name": "stdout"
        },
        {
          "output_type": "stream",
          "text": [
            "100%|██████████| 117/117 [00:32<00:00,  3.58it/s]\n",
            "100%|██████████| 13/13 [00:00<00:00, 16.36it/s]\n",
            "  0%|          | 0/117 [00:00<?, ?it/s]"
          ],
          "name": "stderr"
        },
        {
          "output_type": "stream",
          "text": [
            "epoch: 5, train loss: 0.9128677355937469, test loss: 0.9752614589837882\n"
          ],
          "name": "stdout"
        },
        {
          "output_type": "stream",
          "text": [
            "100%|██████████| 117/117 [00:32<00:00,  3.59it/s]\n",
            "100%|██████████| 13/13 [00:00<00:00, 16.13it/s]\n",
            "  0%|          | 0/117 [00:00<?, ?it/s]"
          ],
          "name": "stderr"
        },
        {
          "output_type": "stream",
          "text": [
            "epoch: 6, train loss: 0.8594413715550023, test loss: 0.9467744781420782\n"
          ],
          "name": "stdout"
        },
        {
          "output_type": "stream",
          "text": [
            "100%|██████████| 117/117 [00:32<00:00,  3.60it/s]\n",
            "100%|██████████| 13/13 [00:00<00:00, 16.04it/s]\n"
          ],
          "name": "stderr"
        },
        {
          "output_type": "stream",
          "text": [
            "epoch: 7, train loss: 0.8131112339150192, test loss: 0.928102135658264\n"
          ],
          "name": "stdout"
        },
        {
          "output_type": "display_data",
          "data": {
            "image/png": "[encoded data removed]",
            "text/plain": [
              "<Figure size 432x288 with 1 Axes>"
            ]
          },
          "metadata": {
            "tags": [],
            "needs_background": "light"
          }
        },
        {
          "output_type": "display_data",
          "data": {
            "image/png": "[encoded data removed]",
            "text/plain": [
              "<Figure size 432x288 with 1 Axes>"
            ]
          },
          "metadata": {
            "tags": [],
            "needs_background": "light"
          }
        }
      ]
    },
    {
      "cell_type": "markdown",
      "metadata": {
        "id": "kibgaqya8Xn4"
      },
      "source": [
        "# Texts generation"
      ]
    },
    {
      "cell_type": "markdown",
      "metadata": {
        "id": "NCfvhZpklIoE"
      },
      "source": [
        "## Define sampling method"
      ]
    },
    {
      "cell_type": "code",
      "metadata": {
        "id": "4HeKwlQF8bN4"
      },
      "source": [
        "def sample(model, vocab: Vocab, num_tokens, seed=\"\", temperature=1.0):\n",
        "    model.eval()\n",
        "    input_encoded = vocab.tokenize(seed)\n",
        "    result = ''\n",
        "    hidden = model.init_hidden(1).to(device)\n",
        "    input_var = Variable(torch.LongTensor([input_encoded]))\n",
        "\n",
        "    with torch.no_grad():\n",
        "        while input_encoded[0] != vocab.char2idx['<eos>']:\n",
        "            output, hidden = model(input_var.to(device), hidden, temperature)\n",
        "            a = output.cpu().data[0, -1, :].numpy()\n",
        "            p = np.exp(a) / np.exp(a).sum()\n",
        "            input_encoded = [np.random.choice(len(vocab), p=p)]\n",
        "            result += vocab.idx2char[input_encoded[0]]\n",
        "            if len(result) > num_tokens:\n",
        "                break\n",
        "            input_var = Variable(torch.LongTensor(input_encoded)).view(1, 1)\n",
        "    return result"
      ],
      "execution_count": null,
      "outputs": []
    },
    {
      "cell_type": "markdown",
      "metadata": {
        "id": "VZgwa4_RlMAE"
      },
      "source": [
        "## Experiments!"
      ]
    },
    {
      "cell_type": "code",
      "metadata": {
        "id": "U6iNFDibK8ah"
      },
      "source": [
        "signs = [\n",
        "    'Овен',\n",
        "    'Телец',\n",
        "    'Близнецы',\n",
        "    'Рак',\n",
        "    'Лев',\n",
        "    'Дева',\n",
        "    'Весы',\n",
        "    'Скорпион',\n",
        "    'Стрелец',\n",
        "    'Козерог',\n",
        "    'Водолей',\n",
        "    'Рыбы'\n",
        "]"
      ],
      "execution_count": null,
      "outputs": []
    },
    {
      "cell_type": "code",
      "metadata": {
        "colab": {
          "base_uri": "https://localhost:8080/"
        },
        "id": "n6S2lfCVaIb9",
        "outputId": "3dd51499-a9fd-4a4f-b394-dbf7e439b94d"
      },
      "source": [
        "for sign in signs:\n",
        "    beginning = f'{sign}, 30 апреля:'\n",
        "    print(f'{beginning}{sample(model, dataset.vocab, 512, beginning, .3)}')\n",
        "    print()"
      ],
      "execution_count": null,
      "outputs": [
        {
          "output_type": "stream",
          "text": [
            "Овен, 30 апреля: вы не откладываете на потом.<eos>\n",
            "\n",
            "Телец, 30 апреля: вы сможете добиться отличных результатов в качалке.<eos>\n",
            "\n",
            "Близнецы, 30 апреля: вы сможете сделать много semen, чем обычно.<eos>\n",
            "\n",
            "Рак, 30 апреля: вы сможете отдохнуть в себе проблемы, которые не даже с которыми вы не станете перед собой, и добьетесь отличных результатов в качалке.<eos>\n",
            "\n",
            "Лев, 30 апреля: вы сможете сделать много полезного и не давали вам позже вас в последнее время.<eos>\n",
            "\n",
            "Дева, 30 апреля: вы сможете добиться отличных оргиях, но вы сможете сделать много позициально самых разных ass.<eos>\n",
            "\n",
            "Весы, 30 апреля: вы сможете сделать много полезного и не откладывать на потом.<eos>\n",
            "\n",
            "Скорпион, 30 апреля: вы не станете спешить с самого утра.<eos>\n",
            "\n",
            "Стрелец, 30 апреля: вам не откажетесь от того, что беретесь.<eos>\n",
            "\n",
            "Козерог, 30 апреля: вы сможете проявить настойчивы, особенно добиться отличных результатов в качалке.<eos>\n",
            "\n",
            "Водолей, 30 апреля: вы сосредоточиться на первый взгляд.<eos>\n",
            "\n",
            "Рыбы, 30 апреля: в этом время не все дается легко.<eos>\n",
            "\n"
          ],
          "name": "stdout"
        }
      ]
    },
    {
      "cell_type": "code",
      "metadata": {
        "id": "WLHHpPfGG0pa"
      },
      "source": [
        ""
      ],
      "execution_count": null,
      "outputs": []
    }
  ]
}